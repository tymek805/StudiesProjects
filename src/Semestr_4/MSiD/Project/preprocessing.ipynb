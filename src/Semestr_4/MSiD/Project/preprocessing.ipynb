{
 "cells": [
  {
   "cell_type": "code",
   "id": "initial_id",
   "metadata": {
    "collapsed": true,
    "ExecuteTime": {
     "end_time": "2024-06-09T20:10:19.818788Z",
     "start_time": "2024-06-09T20:10:19.345760Z"
    }
   },
   "source": [
    "import warnings\n",
    "\n",
    "import numpy as np\n",
    "\n",
    "warnings.simplefilter(\"ignore\", UserWarning)\n",
    "import os.path\n",
    "\n",
    "import pandas as pd\n",
    "from IPython.display import display\n",
    "import matplotlib.pyplot as plt\n",
    "import matplotlib.ticker"
   ],
   "outputs": [],
   "execution_count": 1
  },
  {
   "metadata": {
    "ExecuteTime": {
     "end_time": "2024-06-09T18:10:12.039161Z",
     "start_time": "2024-06-09T18:10:12.034906Z"
    }
   },
   "cell_type": "code",
   "source": [
    "def preprocess_for_param(param):\n",
    "    print(f\"<<<<<<<<<<<<< {param} >>>>>>>>>>>>> \")\n",
    "    dfs = []\n",
    "    for year in range(2015, 2023):\n",
    "        filepath = f'data/Wyniki pomiarów z {year} roku/{year}_{param}.xlsx'\n",
    "        if os.path.exists(filepath):\n",
    "            print(f\"Processing data from {year} for parameter: {param}\")\n",
    "            df = pd.read_excel(filepath, header=None)\n",
    "            if year in [2016, 2018]:\n",
    "                res = df.iloc[1]\n",
    "                df = df[df[0].apply(lambda x: (type(x) != str and not pd.isna(x)))]\n",
    "                df.columns = res\n",
    "                df.index = pd.to_datetime(df.iloc[:, 0])\n",
    "            else:\n",
    "                res = df.loc[df[0] == 'Kod stacji']\n",
    "                df = df[df[0].apply(lambda x: (type(x) != str and not pd.isna(x)))]\n",
    "                df.columns = res.iloc[0]\n",
    "                df.index = pd.to_datetime(df['Kod stacji'])\n",
    "                \n",
    "            df.drop(df.columns[0], axis=1, inplace=True)\n",
    "            df.rename_axis('Date', axis=1, inplace=True)\n",
    "            filtered_col = [col for col in df if not pd.isna(col) and col.startswith('DsWroc')]\n",
    "            dfs.append(df[filtered_col])\n",
    "\n",
    "    pd.concat(dfs).to_excel(f'{param}.xlsx')\n",
    "\n",
    "parameters = ['SO2_1g', 'SO2_24g', 'PM25_1g', 'PM25_24g', 'PM10_1g', 'PM10_24g', 'O3_1g', 'CO_1g', 'NO2_1g', 'NO2_24g']\n",
    "# [preprocess_for_param(param) for param in parameters]\n"
   ],
   "id": "23e74fe9ec009a27",
   "outputs": [],
   "execution_count": 2
  },
  {
   "metadata": {
    "ExecuteTime": {
     "end_time": "2024-06-09T20:10:23.168532Z",
     "start_time": "2024-06-09T20:10:23.164645Z"
    }
   },
   "cell_type": "code",
   "source": [
    "def save_columns(year: int) -> None:\n",
    "    dir_path = f'filtered_data_since_{year}'\n",
    "    columns = []\n",
    "    for file in os.listdir(dir_path):\n",
    "        columns.append((file, list(pd.read_excel(os.path.join(dir_path, file), index_col=0))))    \n",
    "    \n",
    "    with open(f'columns_{year}.txt', 'w+') as f:\n",
    "        [f.write(filename + ': ' + ', '.join(col) + '\\n') for filename, col in columns]\n",
    "\n",
    "# save_columns(2005)\n",
    "# save_columns(2015)\n"
   ],
   "id": "3dbad7ba57d4b26a",
   "outputs": [],
   "execution_count": 2
  },
  {
   "metadata": {
    "ExecuteTime": {
     "end_time": "2024-06-09T20:10:23.484237Z",
     "start_time": "2024-06-09T20:10:23.480863Z"
    }
   },
   "cell_type": "code",
   "source": [
    "def read_filtered_data():\n",
    "    path = 'filtered_data_since_2015'\n",
    "    return {file.replace('.xlsx', '').split('_')[0]: pd.read_excel(os.path.join(path, file), index_col=0) for file in os.listdir(path)}\n"
   ],
   "id": "2c069526dfb48a37",
   "outputs": [],
   "execution_count": 3
  },
  {
   "metadata": {
    "ExecuteTime": {
     "end_time": "2024-06-09T20:10:23.909803Z",
     "start_time": "2024-06-09T20:10:23.907125Z"
    }
   },
   "cell_type": "code",
   "source": [
    "from math import trunc\n",
    "def truncate(number, digits) -> float:\n",
    "    if len(str(number).split('.')[1]) <= digits:\n",
    "        return number\n",
    "    stepper = 10.0 ** digits\n",
    "    return trunc(stepper * number) / stepper\n"
   ],
   "id": "f05fc0a419bd36a6",
   "outputs": [],
   "execution_count": 4
  },
  {
   "metadata": {
    "ExecuteTime": {
     "end_time": "2024-06-09T20:28:14.348217Z",
     "start_time": "2024-06-09T20:28:14.343852Z"
    }
   },
   "cell_type": "code",
   "source": [
    "aqi = [(0, 50), (51, 100), (101, 150), (151, 200), (201, 300)]\n",
    "pollutants = {\n",
    "    'PM10': (0, [(0, 54), (55, 154), (155, 254), (255, 354), (355, 424)]),\n",
    "    'PM25': (1, [(0.0, 9.0), (9.1, 35.4), (35.5, 55.4), (55.5, 125.4), (125.5, 225.4)]),\n",
    "    'O3': (3, [(0.000, 0.054), (0.055, 0.070), (0.071, 0.085), (0.086, 0.105), (0.106, 0.200)]),\n",
    "    'CO': (1, [(0.0, 4.4), (4.5, 9.4), (9.5, 12.4), (12.5, 15.4), (15.5, 30.4)]),\n",
    "    'NO2': (0, [(0, 53), (54, 100), (101, 360), (361, 649), (650, 1249)]),\n",
    "    'SO2': (1, [(0, 35), (36, 75), (76, 185), (186, 304), (305, 604)])\n",
    "}\n",
    "\n",
    "def calculate_aqi(pollutant_value, pollutant_name):\n",
    "    trunc_point, breakpoints = pollutants[pollutant_name]\n",
    "    bp_idx = -1\n",
    "    for i, (bot, top) in enumerate(breakpoints):\n",
    "        if bot <= pollutant_value <= top:\n",
    "            bp_idx = i\n",
    "    i_hi, i_lo = aqi[bp_idx]\n",
    "    bp_hi, bp_lo = breakpoints[bp_idx]\n",
    "    return round((i_hi - i_lo) / (bp_hi - bp_lo) * (truncate(pollutant_value, trunc_point) - bp_lo) + i_lo)\n"
   ],
   "id": "d4bf1feca954c600",
   "outputs": [],
   "execution_count": 78
  },
  {
   "metadata": {
    "ExecuteTime": {
     "end_time": "2024-06-09T21:04:04.291215Z",
     "start_time": "2024-06-09T21:03:50.057561Z"
    }
   },
   "cell_type": "code",
   "source": "dfs = read_filtered_data()",
   "id": "41f18bdeffc21eaf",
   "outputs": [],
   "execution_count": 81
  },
  {
   "metadata": {
    "ExecuteTime": {
     "end_time": "2024-06-09T21:04:07.690262Z",
     "start_time": "2024-06-09T21:04:07.430723Z"
    }
   },
   "cell_type": "code",
   "source": [
    "missing_data = {}\n",
    "coff = {'SO2': 5, 'O3': 1 / 500, 'PM10': 1, 'PM25': 1, 'NO2': 1, 'CO': 10}\n",
    "\n",
    "for key, df in dfs.items():\n",
    "    print(key)\n",
    "    df: pd.DataFrame = df.replace(',', '.', regex=True).apply(pd.to_numeric)\n",
    "    df['Mean'] = df.mean(axis=1)\n",
    "    # df = df.fillna(df.mean())\n",
    "    \n",
    "    if key in ['O3', 'CO'] :\n",
    "        df = df.resample('8h').mean()\n",
    "    missing_data[key] = (df['Mean'].isna().sum(), len(df.index))\n",
    "    # df['AQI'] = df['Mean'].apply(lambda x: calculate_aqi(x * coff[key], key))\n",
    "    # df = df.drop(df.columns.difference(['Mean', 'AQI']), axis=1)\n",
    "    # display(df)\n",
    "    # df.to_excel(f'finished_{key}.xlsx')\n",
    "print(missing_data)\n"
   ],
   "id": "e19b5e09b6c08e95",
   "outputs": [
    {
     "name": "stdout",
     "output_type": "stream",
     "text": [
      "PM10\n",
      "O3\n",
      "CO\n",
      "PM25\n",
      "NO2\n",
      "SO2\n",
      "{'PM10': (10, 2922), 'O3': (0, 8767), 'CO': (0, 8767), 'PM25': (155, 2922), 'NO2': (355, 70128), 'SO2': (1311, 70128)}\n"
     ]
    }
   ],
   "execution_count": 82
  },
  {
   "metadata": {
    "ExecuteTime": {
     "end_time": "2024-06-09T21:04:10.340258Z",
     "start_time": "2024-06-09T21:04:10.231010Z"
    }
   },
   "cell_type": "code",
   "source": [
    "def missing_data_plots(missing_data_dict: dict):\n",
    "    x = list(missing_data_dict.keys())\n",
    "    y = [round(data_miss / data_size * 100, 2) for (data_miss, data_size) in missing_data_dict.values()]\n",
    "    plt.bar(x, y)\n",
    "    plt.xlabel('Typy zanieczyszczeń')\n",
    "    plt.ylabel('% brakujących danych')\n",
    "    ax = plt.gca()\n",
    "    ax.yaxis.set_major_formatter(matplotlib.ticker.PercentFormatter(xmax=100))\n",
    "    ax.yaxis.grid(True)\n",
    "    plt.ylim(0, 10)\n",
    "    # plt.show()\n",
    "    plt.savefig('missing_data.png')\n",
    "    \n",
    "missing_data_plots(missing_data)"
   ],
   "id": "1900157e8774caf2",
   "outputs": [
    {
     "data": {
      "text/plain": [
       "<Figure size 640x480 with 1 Axes>"
      ],
      "image/png": "[encoded data removed]"
     },
     "metadata": {},
     "output_type": "display_data"
    }
   ],
   "execution_count": 83
  },
  {
   "metadata": {},
   "cell_type": "code",
   "outputs": [],
   "execution_count": null,
   "source": [
    "def plot_compare() -> None:\n",
    "    fig, [ax1, ax2, ax3] = plt.subplots(ncols=3,figsize=(15,5))\n",
    "    for metric,name,ax in zip([mean_squared_error,mean_absolute_error,r2_score],['MSE','MAE','R2'],[ax1,ax2,ax3]):\n",
    "        y_pred_forest = forest_model.predict(x_test)\n",
    "        y_pred_gradient = gradient_model.predict(x_test)\n",
    "        y_pred_ridge = ridge_model.predict(x_test)\n",
    "        y_values = [metric(y_test,y_pred_forest),metric(y_test,y_pred_gradient),metric(y_test,y_pred_ridge)]\n",
    "        sns.barplot(x=['Random Forest Regressor','Gradient Boosting Regressor','Ridge'],y=y_values,hue=y_values,palette=('RdYlGn_r' if name!=\"R2\" else 'RdYlGn') ,ax=ax)\n",
    "        ax.set_ylabel('value')\n",
    "        ax.set_title(f'{name} comparison')\n",
    "        for i in ax.containers:\n",
    "            ax.bar_label(i,fmt='%.2f',label_type='edge')\n",
    "        ax.legend().remove()\n",
    "        ax.xaxis.set_tick_params(rotation=45)\n",
    "plot_compare()"
   ],
   "id": "130d505405758779"
  }
 ],
 "metadata": {
  "kernelspec": {
   "display_name": "Python 3",
   "language": "python",
   "name": "python3"
  },
  "language_info": {
   "codemirror_mode": {
    "name": "ipython",
    "version": 2
   },
   "file_extension": ".py",
   "mimetype": "text/x-python",
   "name": "python",
   "nbconvert_exporter": "python",
   "pygments_lexer": "ipython2",
   "version": "2.7.6"
  }
 },
 "nbformat": 4,
 "nbformat_minor": 5
}
