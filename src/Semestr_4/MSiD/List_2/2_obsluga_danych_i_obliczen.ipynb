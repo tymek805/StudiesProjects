{
 "cells": [
  {
   "cell_type": "markdown",
   "metadata": {
    "id": "280V8WE_giuF"
   },
   "source": [
    "## Plan notatnika jest nastepujący:\n",
    "\n",
    "1.   działania na tabelach (`numpy.array`),\n",
    "2.   obsługa generatorów liczb losowych (`numpy.random`),\n",
    "3.   zdobywanie rzeczywistych zbiorów danych.\n",
    "\n",
    "Powyższe elementy przygotują Cię do pracy z prawdziwymi danymi i do wykonywania obliczeń i symulacji."
   ]
  },
  {
   "cell_type": "markdown",
   "metadata": {
    "id": "qpGPdltgqP3s"
   },
   "source": [
    "**Pamiętaj eksperymentować** z każdą komórką, jaką się da. Uruchom swoją wyobraźnię."
   ]
  },
  {
   "cell_type": "markdown",
   "metadata": {
    "id": "oDojEQUfFnGr"
   },
   "source": [
    "## Tabele i macierze: przekształcenia i obliczenia "
   ]
  },
  {
   "cell_type": "markdown",
   "metadata": {
    "id": "NNXc7WRdi-jy"
   },
   "source": [
    "**Tabela** (ang. **array**) nie jest natywną strukturą danych języka Python. Trzeba ją importować z biblioteki `numpy`.  "
   ]
  },
  {
   "cell_type": "markdown",
   "metadata": {
    "id": "pNPkCTBHuFhb"
   },
   "source": [
    "Przez **macierz** będziemy rozumieć tabelę, która ma określone dwa wymiary."
   ]
  },
  {
   "cell_type": "code",
   "execution_count": 1,
   "metadata": {
    "id": "mksOBQq2A_Wz"
   },
   "outputs": [],
   "source": [
    "import numpy as np"
   ]
  },
  {
   "cell_type": "code",
   "execution_count": 2,
   "metadata": {
    "colab": {
     "base_uri": "https://localhost:8080/"
    },
    "id": "h_h7pE9wFsYN",
    "outputId": "01208a30-2406-4243-f273-e9142d91b823"
   },
   "outputs": [
    {
     "name": "stdout",
     "output_type": "stream",
     "text": [
      "[ 1  2  3  4  5  6  7  8  9 10 11 12]\n"
     ]
    }
   ],
   "source": [
    "tab = np.arange(12) + 1\n",
    "print(tab)"
   ]
  },
  {
   "cell_type": "markdown",
   "metadata": {
    "id": "_sDj06Mbwo8X"
   },
   "source": [
    "W tym miejscu warto odnotować wybrane funkcje biblioteki `numpy` służące do generowania często używanych tabel. Zanim zabierzesz się do pisania programu, który tworzy tabelę/macierz wypełnioną w sposób regularny wartościami liczbowymi, warto przejrzeć tę listę. Może nawet dodać do niej coś od siebie.<br>\n",
    "`arange`, `linspace`, `zeros`, `ones`, `zeros_like`, `ones_like`, `empty`, `empty_like`, `eye`, ... <br>\n",
    "Inne ciekawe znajdziesz w części poświęconej generatorom liczb losowych. "
   ]
  },
  {
   "cell_type": "code",
   "execution_count": 46,
   "metadata": {},
   "outputs": [
    {
     "name": "stdout",
     "output_type": "stream",
     "text": [
      "[0 1 2 3]\n",
      "[0.  1.5 3. ]\n",
      "[0. 0. 0. 0.]\n",
      "[1. 1. 1. 1.]\n",
      "[0 0 0]\n",
      "[1 1 1]\n",
      "[4.24399158e-314 8.48798317e-314 1.27319747e-313 1.69759663e-313\n",
      " 2.12199579e-313]\n",
      "[       0        0 84125040      500        0]\n",
      "[[1. 0. 0. 0.]\n",
      " [0. 1. 0. 0.]\n",
      " [0. 0. 1. 0.]\n",
      " [0. 0. 0. 1.]]\n"
     ]
    }
   ],
   "source": [
    "print(np.arange(4))\n",
    "print(np.linspace(0, 3, num=3))\n",
    "\n",
    "print(np.zeros(4))\n",
    "print(np.ones(4))\n",
    "\n",
    "print(np.zeros_like(np.array([1, 2, 3])))\n",
    "print(np.ones_like(np.array([1, 2, 3])))\n",
    "\n",
    "print(np.empty(5))\n",
    "print(np.empty_like(np.array([1, 2, 3, 4, 5])))\n",
    "print(np.eye(4))"
   ]
  },
  {
   "cell_type": "markdown",
   "metadata": {
    "id": "RWsHTV_6XHGB"
   },
   "source": [
    "**Rozmiar** i **kształt** (ang. *shape*) tabeli"
   ]
  },
  {
   "cell_type": "code",
   "execution_count": 3,
   "metadata": {
    "colab": {
     "base_uri": "https://localhost:8080/"
    },
    "id": "ccvV5rNpF2xn",
    "outputId": "f4ec3fc9-4b27-4f68-8b6f-865e61c5777c"
   },
   "outputs": [
    {
     "data": {
      "text/plain": [
       "12"
      ]
     },
     "execution_count": 3,
     "metadata": {},
     "output_type": "execute_result"
    }
   ],
   "source": [
    "tab.size"
   ]
  },
  {
   "cell_type": "code",
   "execution_count": 4,
   "metadata": {
    "colab": {
     "base_uri": "https://localhost:8080/"
    },
    "id": "78UHPk1CF9gn",
    "outputId": "bd695192-5e84-4c28-eb9f-037bfac208a7"
   },
   "outputs": [
    {
     "data": {
      "text/plain": [
       "(12,)"
      ]
     },
     "execution_count": 4,
     "metadata": {},
     "output_type": "execute_result"
    }
   ],
   "source": [
    "tab.shape"
   ]
  },
  {
   "cell_type": "markdown",
   "metadata": {
    "id": "oJZVE15tqnD3"
   },
   "source": [
    "Kształt tabeli jest określony krotką, która może mieć potencjalnie dowolny wymiar. <br>\n",
    "Tutaj `tab` jest jedowymiarowa lub *płaska* (ang. *flat*)."
   ]
  },
  {
   "cell_type": "markdown",
   "metadata": {
    "id": "_JCTpec4svK8"
   },
   "source": [
    "Kształt tabeli (ale oczywiście nie rozmiar) można zmieniać poleceniem `reshape`."
   ]
  },
  {
   "cell_type": "code",
   "execution_count": 5,
   "metadata": {
    "colab": {
     "base_uri": "https://localhost:8080/"
    },
    "id": "ml_MucTqF-ey",
    "outputId": "0b9d60f4-1e34-4064-ae43-10853fd9a8ca"
   },
   "outputs": [
    {
     "name": "stdout",
     "output_type": "stream",
     "text": [
      "[[ 1  2  3]\n",
      " [ 4  5  6]\n",
      " [ 7  8  9]\n",
      " [10 11 12]]\n"
     ]
    }
   ],
   "source": [
    "mat = tab.reshape(4, 3)\n",
    "print(mat)"
   ]
  },
  {
   "cell_type": "code",
   "execution_count": 6,
   "metadata": {
    "colab": {
     "base_uri": "https://localhost:8080/"
    },
    "id": "09ywe7S8Vsrc",
    "outputId": "42206fdf-c6ba-4a6f-b517-73788a2d606d"
   },
   "outputs": [
    {
     "name": "stdout",
     "output_type": "stream",
     "text": [
      "12\n",
      "(4, 3)\n"
     ]
    }
   ],
   "source": [
    "print(mat.size)\n",
    "print(mat.shape)"
   ]
  },
  {
   "cell_type": "markdown",
   "metadata": {
    "id": "uyteDPQ2s-14"
   },
   "source": [
    "Argument `-1` oznacza ,,oblicz sobie samodzielnie''."
   ]
  },
  {
   "cell_type": "code",
   "execution_count": 7,
   "metadata": {
    "colab": {
     "base_uri": "https://localhost:8080/"
    },
    "id": "k22sbcx6V0I7",
    "outputId": "1f28a872-cfce-42ba-f50b-868da71eced0"
   },
   "outputs": [
    {
     "data": {
      "text/plain": [
       "array([[ 1,  2,  3],\n",
       "       [ 4,  5,  6],\n",
       "       [ 7,  8,  9],\n",
       "       [10, 11, 12]])"
      ]
     },
     "execution_count": 7,
     "metadata": {},
     "output_type": "execute_result"
    }
   ],
   "source": [
    "tab.reshape(4, -1)"
   ]
  },
  {
   "attachments": {},
   "cell_type": "markdown",
   "metadata": {},
   "source": [
    "**Ćwiczenie 1**: spróbuj zmodyfikować macierz `tab` by miała 5 wierszy - czy wiesz czemu jest to niemożliwe?"
   ]
  },
  {
   "cell_type": "code",
   "execution_count": 53,
   "metadata": {},
   "outputs": [
    {
     "name": "stdout",
     "output_type": "stream",
     "text": [
      "[ 1  2  3  4  5  6  7  8  9 10 11 12]\n",
      "cannot reshape array of size 12 into shape (5,newaxis)\n",
      "[[ 1  2]\n",
      " [ 3  4]\n",
      " [ 5  6]\n",
      " [ 7  8]\n",
      " [ 9 10]]\n"
     ]
    }
   ],
   "source": [
    "print(tab)\n",
    "try:\n",
    "    tab.reshape(5, -1)\n",
    "except ValueError as e:\n",
    "    print(e)\n",
    "    # Aby zmodyfikować macierz, musi ona posiadać podzielną liczbę elementów przez liczbę wierszy / kolumn\n",
    "    test_tab = np.arange(1, 11)\n",
    "    print(test_tab.reshape(5, -1))"
   ]
  },
  {
   "cell_type": "markdown",
   "metadata": {
    "id": "jRgGsYmctYdG"
   },
   "source": [
    "Czasem biblioteczne procedury wymagają podania tabel dwuwymiarowych, nawet jeżeli składa się na nie jedna kolumna (jeden wiersz). Ponadto, mogą wymagać okreslonego układu: kolumnowego lub wierszowego. <br>\n",
    "Oto wygodny sposób przekształcenia płaskiej tabeli na wiersz lub kolumnę macierzy.  "
   ]
  },
  {
   "cell_type": "code",
   "execution_count": 54,
   "metadata": {
    "colab": {
     "base_uri": "https://localhost:8080/"
    },
    "id": "555iWvUkWSBb",
    "outputId": "1faeacbf-5a5b-4d2b-eeb1-903a00f678f6"
   },
   "outputs": [
    {
     "data": {
      "text/plain": [
       "array([[ 1,  2,  3,  4,  5,  6,  7,  8,  9, 10, 11, 12]])"
      ]
     },
     "execution_count": 54,
     "metadata": {},
     "output_type": "execute_result"
    }
   ],
   "source": [
    "tab.reshape(1, -1)"
   ]
  },
  {
   "cell_type": "code",
   "execution_count": 55,
   "metadata": {
    "colab": {
     "base_uri": "https://localhost:8080/"
    },
    "id": "UYRhqqhtWZR8",
    "outputId": "c7559512-afc7-449b-cbf8-7d27b3dc26c7"
   },
   "outputs": [
    {
     "name": "stdout",
     "output_type": "stream",
     "text": [
      "[[ 1]\n",
      " [ 2]\n",
      " [ 3]\n",
      " [ 4]\n",
      " [ 5]\n",
      " [ 6]\n",
      " [ 7]\n",
      " [ 8]\n",
      " [ 9]\n",
      " [10]\n",
      " [11]\n",
      " [12]]\n"
     ]
    }
   ],
   "source": [
    "mat = tab.reshape(-1, 1)\n",
    "print(mat)"
   ]
  },
  {
   "cell_type": "code",
   "execution_count": 56,
   "metadata": {
    "colab": {
     "base_uri": "https://localhost:8080/"
    },
    "id": "wSuArsL1WcDQ",
    "outputId": "73ca5f0c-bcf5-4bb8-88e5-29db7e624269"
   },
   "outputs": [
    {
     "name": "stdout",
     "output_type": "stream",
     "text": [
      "(12,)\n",
      "(12, 1)\n"
     ]
    }
   ],
   "source": [
    "print(tab.shape)\n",
    "print(mat.shape)"
   ]
  },
  {
   "cell_type": "markdown",
   "metadata": {
    "id": "rUN0cLKPXpFt"
   },
   "source": [
    "A teraz <font color='red'>uwaga</font>:"
   ]
  },
  {
   "cell_type": "code",
   "execution_count": 57,
   "metadata": {
    "colab": {
     "base_uri": "https://localhost:8080/"
    },
    "id": "bdk88eyrWpUj",
    "outputId": "8c3e3f87-8017-4418-eb56-cb5daed5a338"
   },
   "outputs": [
    {
     "name": "stdout",
     "output_type": "stream",
     "text": [
      "[ 1  2  3  4  5  6  7  8  9 10 11 12]\n",
      "[[ 1  2  3]\n",
      " [ 4  5  6]\n",
      " [ 7  8  9]\n",
      " [10 11 12]]\n",
      "\n",
      "[[ 1  2  3]\n",
      " [ 4  0  6]\n",
      " [ 7  8  9]\n",
      " [10 11 12]]\n",
      "[ 1  2  3  4  0  6  7  8  9 10 11 12]\n"
     ]
    }
   ],
   "source": [
    "mat = tab.reshape(4, 3)\n",
    "print(tab)\n",
    "print(mat, end=\"\\n\\n\")\n",
    "mat[1, 1] = 0\n",
    "print(mat)\n",
    "print(tab)"
   ]
  },
  {
   "cell_type": "markdown",
   "metadata": {
    "id": "EtACQHYEvRQi"
   },
   "source": [
    "Zmieniając `mat`, wpłyneliśmy na `tab`. <br>\n",
    "Mówimy, że `mat` jest *widokiem* (ang. *view*) na `tab`, bo wskazuje na ten sam obszar w pamięci, ale w inny sposób."
   ]
  },
  {
   "cell_type": "markdown",
   "metadata": {
    "id": "vZ0YFfPvvbVh"
   },
   "source": [
    "Jeżeli nie o to nam chodzi, trzeba w sposób jawny utworzyć `mat` jako kopię przekształconej wersji `tab`."
   ]
  },
  {
   "cell_type": "code",
   "execution_count": 58,
   "metadata": {
    "colab": {
     "base_uri": "https://localhost:8080/"
    },
    "id": "Tb_fTQUeXt3m",
    "outputId": "c1b505a5-caff-4acc-a8a5-b81313e888c6"
   },
   "outputs": [
    {
     "name": "stdout",
     "output_type": "stream",
     "text": [
      "[ 1  2  3  4  0  6  7  8  9 10 11 12]\n",
      "[[ 1  2  3]\n",
      " [ 4  0  6]\n",
      " [ 7  8  9]\n",
      " [10 11 12]]\n",
      "\n",
      "[[  1   2   3]\n",
      " [  4 100   6]\n",
      " [  7   8   9]\n",
      " [ 10  11  12]]\n",
      "[ 1  2  3  4  0  6  7  8  9 10 11 12]\n"
     ]
    }
   ],
   "source": [
    "mat = tab.reshape(4, 3).copy()\n",
    "print(tab)\n",
    "print(mat, end=\"\\n\\n\")\n",
    "mat[1, 1] = 100\n",
    "print(mat)\n",
    "print(tab)"
   ]
  },
  {
   "cell_type": "markdown",
   "metadata": {
    "id": "eEhpbKijYtAO"
   },
   "source": [
    "**Zapamiętaj**: ponieważ zmienne (nazwy) w języku Python to wskaźniki do obiektów, jedynym możliwym rezultatem przypisania <br>\n",
    " ```zmienna2 = zmienna1``` <br>\n",
    " jest uzyskanie dwóch zmiennych wskazujących na ten sam obiekt. <br>\n",
    " Jeżeli potrzeba kopii obiektu, to nową zmienną tworzymy w ten sposób: <br>\n",
    " ```zmienna2 = zmienna1.copy()``` <br>\n",
    " lub <br>\n",
    " ```zmienna2 = zmienna1.deepcopy()``` <br>\n",
    " w przypadku gdy `zmienna1` jest strukturą zagnieżdżoną (np. listą list)."
   ]
  },
  {
   "cell_type": "markdown",
   "metadata": {
    "id": "nrYdOLnxaymr"
   },
   "source": [
    "**Złożenia** tabel/macierzy. <br>\n",
    "Przydają się, gdy zachodzi potrzeba połączenia różnych zestawów danych w ramach jednej większej struktury."
   ]
  },
  {
   "cell_type": "code",
   "execution_count": 59,
   "metadata": {
    "colab": {
     "base_uri": "https://localhost:8080/"
    },
    "id": "sNwTGuzjYa7q",
    "outputId": "03d5e408-ad5d-4b65-eb7a-c386d8418d8e"
   },
   "outputs": [
    {
     "name": "stdout",
     "output_type": "stream",
     "text": [
      "[[0 1 2]\n",
      " [3 4 5]]\n",
      "[[ 7  8  9]\n",
      " [10 11 12]]\n",
      "\n",
      "[[ 0  1  2]\n",
      " [ 3  4  5]\n",
      " [ 7  8  9]\n",
      " [10 11 12]]\n",
      "\n",
      "[[ 0  1  2  7  8  9]\n",
      " [ 3  4  5 10 11 12]]\n"
     ]
    }
   ],
   "source": [
    "A = np.arange(6).reshape(2, 3)\n",
    "B = np.arange(7, 13).reshape(2, 3)\n",
    "print(A, B, sep=\"\\n\", end=\"\\n\\n\")\n",
    "print(np.vstack([A, B]), end=\"\\n\\n\")\n",
    "print(np.hstack([A, B]))"
   ]
  },
  {
   "attachments": {},
   "cell_type": "markdown",
   "metadata": {
    "id": "ooEgwSYs1i44"
   },
   "source": [
    "A czasem trzeba zrobić coś odwrotnego, to znaczy ,,spłaszczyć'' tabelę."
   ]
  },
  {
   "cell_type": "code",
   "execution_count": 60,
   "metadata": {
    "colab": {
     "base_uri": "https://localhost:8080/"
    },
    "id": "lvIrHx_4cFLS",
    "outputId": "84eedc23-38bb-4105-a24a-076b0d7773a2"
   },
   "outputs": [
    {
     "data": {
      "text/plain": [
       "array([0, 1, 2, 3, 4, 5])"
      ]
     },
     "execution_count": 60,
     "metadata": {},
     "output_type": "execute_result"
    }
   ],
   "source": [
    "A.flatten()"
   ]
  },
  {
   "cell_type": "markdown",
   "metadata": {
    "id": "YUoe2CTxgDxU"
   },
   "source": [
    "**Obliczenia macierzowe** <br>\n",
    "Dotyczą tabel dwuwymiarowych, które można mnożyć, odwracać, transponować. Z macierzy można też policzyć wyznacznik. <br>\n",
    "Pamiętasz, **co to jest** wyznacznik? Nie jak się go liczy, ale czym konkretnie on jest?"
   ]
  },
  {
   "cell_type": "markdown",
   "metadata": {
    "id": "vWUKsOd92gHL"
   },
   "source": [
    "Podbiblioteka `numpy.linalg` implementuje ważne operacje algebry liniowej."
   ]
  },
  {
   "cell_type": "code",
   "execution_count": 61,
   "metadata": {
    "id": "hG9DguHPi2q_"
   },
   "outputs": [],
   "source": [
    "from numpy.linalg import det, inv"
   ]
  },
  {
   "attachments": {},
   "cell_type": "markdown",
   "metadata": {
    "id": "BxmCDRFR2vDe"
   },
   "source": [
    "Najpierw przygotujemy jakąś macierz `A` na potrzeby eksperymentowania."
   ]
  },
  {
   "cell_type": "code",
   "execution_count": 62,
   "metadata": {
    "colab": {
     "base_uri": "https://localhost:8080/"
    },
    "id": "cNinSCGAcsMo",
    "outputId": "bd1881e4-423e-40a4-c2d0-7e8241bd9e34"
   },
   "outputs": [
    {
     "data": {
      "text/plain": [
       "array([ 0,  2,  6, 12])"
      ]
     },
     "execution_count": 62,
     "metadata": {},
     "output_type": "execute_result"
    }
   ],
   "source": [
    "tab = np.arange(4) + 1\n",
    "tab**2 - tab"
   ]
  },
  {
   "cell_type": "code",
   "execution_count": 63,
   "metadata": {
    "colab": {
     "base_uri": "https://localhost:8080/"
    },
    "id": "lHMq-Qk4iQHD",
    "outputId": "cbc29fd1-525d-4639-8a35-fe9f1f277ac4"
   },
   "outputs": [
    {
     "name": "stdout",
     "output_type": "stream",
     "text": [
      "[[ 4  3 -1  1]\n",
      " [ 8  6 -1  2]\n",
      " [ 0  1  1  3]\n",
      " [-3 -3 -1  4]]\n"
     ]
    }
   ],
   "source": [
    "tab = tab.reshape(1, -1)\n",
    "\n",
    "A = np.dot(tab.T, np.flip(tab))\n",
    "A[2, :] = np.arange(4)\n",
    "A[:, 2] = -1\n",
    "A[-2, 2] += 2\n",
    "A[A > 8] = -3\n",
    "print(A)"
   ]
  },
  {
   "cell_type": "code",
   "execution_count": 64,
   "metadata": {
    "colab": {
     "base_uri": "https://localhost:8080/"
    },
    "id": "57I9YQ7Zidvw",
    "outputId": "98a30162-ae6d-474e-e9d2-a4ea4ba923dd"
   },
   "outputs": [
    {
     "data": {
      "text/plain": [
       "-27.999999999999996"
      ]
     },
     "execution_count": 64,
     "metadata": {},
     "output_type": "execute_result"
    }
   ],
   "source": [
    "det(A)"
   ]
  },
  {
   "attachments": {},
   "cell_type": "markdown",
   "metadata": {
    "id": "NsAaweZT3OqQ"
   },
   "source": [
    "**Ćwiczenie 2**: Jak można zorientować się po wyniku, które z dwóch działań <br>\n",
    "```python\n",
    "A @ inv(A)\n",
    "A * inv(A)\n",
    "```\n",
    "realizuje mnożenie macierzowe?"
   ]
  },
  {
   "cell_type": "code",
   "execution_count": 74,
   "metadata": {
    "id": "FWFpDzwkmQHQ"
   },
   "outputs": [
    {
     "name": "stdout",
     "output_type": "stream",
     "text": [
      "[[ 4  3 -1  1]\n",
      " [ 8  6 -1  2]\n",
      " [ 0  1  1  3]\n",
      " [-3 -3 -1  4]]\n",
      "[[ 8  6 -2  2]\n",
      " [16 12 -2  4]\n",
      " [ 0  2  2  6]\n",
      " [-6 -6 -2  8]]\n",
      "[[ 37  26  -9  11]\n",
      " [ 74  53 -17  25]\n",
      " [ -1  -2  -3  17]\n",
      " [-48 -40   1   4]]\n"
     ]
    }
   ],
   "source": [
    "print(A)\n",
    "print(A * 2) # Realizuje standartowe mnożenie\n",
    "print(A @ A) # Realizuje mnożenie macierzowe"
   ]
  },
  {
   "cell_type": "markdown",
   "metadata": {
    "id": "ydmt14Hx3prg"
   },
   "source": [
    "W przypadku dużych macierzy lepszy ogląd na wartości jej elementów może dać obrazek."
   ]
  },
  {
   "cell_type": "code",
   "execution_count": null,
   "metadata": {
    "id": "zBbHh2_MmeJg"
   },
   "outputs": [],
   "source": [
    "import matplotlib.pyplot as plt"
   ]
  },
  {
   "cell_type": "code",
   "execution_count": null,
   "metadata": {
    "colab": {
     "base_uri": "https://localhost:8080/",
     "height": 521
    },
    "id": "Jjea1tEemlqu",
    "outputId": "fdb0d547-5b6e-472b-b78e-d477769a68db"
   },
   "outputs": [],
   "source": [
    "plt.imshow(A @ inv(A))\n",
    "plt.show()\n",
    "\n",
    "plt.imshow(A * inv(A))\n",
    "plt.show()"
   ]
  },
  {
   "cell_type": "markdown",
   "metadata": {
    "id": "gR4ox_nb32FJ"
   },
   "source": [
    "Funkcja [`imshow`](https://matplotlib.org/stable/api/_as_gen/matplotlib.pyplot.imshow.html) pozwala na dowolne zakodowanie wartości liczbowych w kolorach (parametr `cmap`)."
   ]
  },
  {
   "cell_type": "markdown",
   "metadata": {
    "id": "IrXG_Bkqf1we"
   },
   "source": [
    "**Zapamiętaj**: <font color='blue'>notacja macierzowa</font> i <font color='orange'>zapis operacji macierzowych w bibliotece ```numpy``` </font> to dwie różne konwencje. Wynika to z tego, że *cele zapisu matematycznego* i *cele narzędzia programistycznego* są nieco różne. <br>\n",
    "Celem biblioteki ```numpy``` jest dostarczenie zwięzłego i wygodnego w użyciu zapisu tych operacji i przekształceń, które najczęściej wykonuje się w praktyce na zbiorach danych i ich fragmentach. **Samodzielnie się zastanów**, jakie są cele notacji matematycznej związanej z macierzami (a najlepiej przypomnij sobie z kursu algebry liniowej). <br>\n",
    "Oczywiście, pewne elementy obu notacji są podobne. Oto one: <br>\n",
    "$A^{-1} \\quad \\rightarrow \\quad$ ```inv(A)``` <br>\n",
    "$A^{\\text{T}} \\quad \\rightarrow \\quad$ ```A.T``` <br>\n",
    "$A\\cdot B \\quad \\rightarrow \\quad$  ``` A @ B``` lub ```np.dot(A,B) ``` <br>\n",
    "Notacja pewnych często wykonywanych na danych operacji została w bibliotece ```numpy``` uproszczona dla przejrzystości, zwięzłości kodu i optymalizacji wykonania. Te uproszczenia nie występują w notacji matematycznej (bo tam nie byłyby one uproszczeniami), <font color='red'>**uważaj**</font> więc, by nie przenosić tych elementów do matematyki. Oto garść przykładów: <br>\n",
    "```A - 1 ``` - odejmowanie skalara od wszystkich elementów macierzy, <br>\n",
    "``` A*B ``` - mnożenie element po elemencie (ang. *element-wise*), <br>\n",
    "``` A**2 ``` - potęgowanie elementów macierzy, <br>\n",
    "itd."
   ]
  },
  {
   "cell_type": "markdown",
   "metadata": {
    "id": "N27jKKXKoO7E"
   },
   "source": [
    "### Generatory liczb losowych"
   ]
  },
  {
   "cell_type": "markdown",
   "metadata": {
    "id": "CKx53UyF5kJb"
   },
   "source": [
    "Przedstawione tutaj funkcje generują tabelę o zadanych wymiarach wypełnioną losowymi wartościami. <br>\n",
    "Z nazwy i wyniku łatwo się domyślić działania funkcji i przeznaczenia jej parametrów. <br>\n",
    "Jeżeli coś jest niejasne, pamiętaj: trzeba **eksperymentować z kodem**. "
   ]
  },
  {
   "cell_type": "code",
   "execution_count": null,
   "metadata": {
    "colab": {
     "base_uri": "https://localhost:8080/"
    },
    "id": "dkIE8QH5oRyL",
    "outputId": "3211443d-d8ad-4997-e58c-88f997ec3433"
   },
   "outputs": [],
   "source": [
    "np.random.choice([\"Orzeł\", \"Reszka\"], p=[0.8, 0.2], size=8)"
   ]
  },
  {
   "cell_type": "code",
   "execution_count": null,
   "metadata": {
    "colab": {
     "base_uri": "https://localhost:8080/"
    },
    "id": "dWPLXhsPpFmW",
    "outputId": "7faa4999-18ec-46a6-a7b1-d763e4115aba"
   },
   "outputs": [],
   "source": [
    "np.random.randint(low=1, high=7, size=20)"
   ]
  },
  {
   "cell_type": "code",
   "execution_count": null,
   "metadata": {
    "colab": {
     "base_uri": "https://localhost:8080/"
    },
    "id": "E8JcxuZupTUw",
    "outputId": "f59f7fa9-19af-4715-a6be-d9dca447d680"
   },
   "outputs": [],
   "source": [
    "np.random.uniform(low=-1, high=1, size=7)  # popatrz również np.random.rand()"
   ]
  },
  {
   "cell_type": "code",
   "execution_count": null,
   "metadata": {
    "colab": {
     "base_uri": "https://localhost:8080/"
    },
    "id": "drKS3yzZpjnX",
    "outputId": "49f02866-5160-4a89-f8b2-2d37f1920794"
   },
   "outputs": [],
   "source": [
    "np.random.normal(loc=80, scale=5, size=10)  # popatrz również np.random.randn()"
   ]
  },
  {
   "cell_type": "code",
   "execution_count": null,
   "metadata": {
    "colab": {
     "base_uri": "https://localhost:8080/"
    },
    "id": "Sz45ULsqqfCP",
    "outputId": "9166714d-6149-4957-88d2-59ae95b36544"
   },
   "outputs": [],
   "source": [
    "np.random.binomial(n=100, p=0.5, size=10)"
   ]
  },
  {
   "cell_type": "code",
   "execution_count": null,
   "metadata": {
    "colab": {
     "base_uri": "https://localhost:8080/"
    },
    "id": "cGKDwUcvquwb",
    "outputId": "412ecc45-696b-490b-aed8-7b569dae7c4d"
   },
   "outputs": [],
   "source": [
    "np.random.poisson(lam=1, size=10)"
   ]
  },
  {
   "attachments": {},
   "cell_type": "markdown",
   "metadata": {},
   "source": [
    "**Ćwiczenie 3**: Czy wiesz w jaki sposób zmusić generator liczb pseudolosowych (PRNG) do zwrócenia kilkukrotnie tych samych wartości? Przeczytaj na temat ziarna (ang. seed) PRNG i przy pomocy pakietu numpy wygeneruj dwukrotnie losowe 10-elementowe tablice, które będą miały te same wartości."
   ]
  },
  {
   "cell_type": "code",
   "execution_count": 79,
   "metadata": {},
   "outputs": [
    {
     "name": "stdout",
     "output_type": "stream",
     "text": [
      "[0.5488135  0.71518937 0.60276338 0.54488318 0.4236548  0.64589411\n",
      " 0.43758721 0.891773   0.96366276 0.38344152]\n",
      "[0.5488135  0.71518937 0.60276338 0.54488318 0.4236548  0.64589411\n",
      " 0.43758721 0.891773   0.96366276 0.38344152]\n"
     ]
    }
   ],
   "source": [
    "np.random.seed(0)\n",
    "print(np.random.rand(10))\n",
    "np.random.seed(0)\n",
    "print(np.random.rand(10))"
   ]
  },
  {
   "cell_type": "markdown",
   "metadata": {
    "id": "ZjwPeWymozbb"
   },
   "source": [
    "<font color='green'>Laboratorium zjawisk losowych </font><br>\n",
    "Nieuzbrojona intuicja ludzka słabo radzi sobie z losowością. Symulacje z wykorzystaniem przedstawionych generatorów pozwalają wyrobić sobie właściwe wyczucie różnych rodzajów i objawów zjawisk losowych.\n",
    "\n",
    "Przykładów jest tu wiele, raczej do przejrzenia i przeanalizowania w domu, z zamierzeniem by bawiąc uczyły."
   ]
  },
  {
   "cell_type": "code",
   "execution_count": null,
   "metadata": {
    "colab": {
     "base_uri": "https://localhost:8080/",
     "height": 266
    },
    "id": "KWH6szsepus7",
    "outputId": "df6e3b84-3e8a-4fa9-cc1b-5bf7ea03a7b5"
   },
   "outputs": [],
   "source": [
    "A = np.random.randint(0, 256, size=(30, 30))\n",
    "plt.imshow(A, interpolation=\"bicubic\", cmap=plt.cm.inferno)\n",
    "plt.show()"
   ]
  },
  {
   "cell_type": "markdown",
   "metadata": {
    "id": "e8MvtzPF7XXk"
   },
   "source": [
    "Czy powyższy obrazek zawiera jakieś regularności?"
   ]
  },
  {
   "cell_type": "markdown",
   "metadata": {
    "id": "Ypa1gI3m7lIZ"
   },
   "source": [
    "Oto przykład tak zwanego spaceru/błądzenia losowego (ang. *random walking*)."
   ]
  },
  {
   "cell_type": "code",
   "execution_count": null,
   "metadata": {
    "colab": {
     "base_uri": "https://localhost:8080/",
     "height": 265
    },
    "id": "oPYjxskppV3E",
    "outputId": "3a5d1f88-16da-4f3f-ebf9-e78aa0082d80"
   },
   "outputs": [],
   "source": [
    "x = np.random.normal(0, 1, size=(500, 5)).cumsum(axis=0)\n",
    "plt.plot(x)\n",
    "plt.show()"
   ]
  },
  {
   "cell_type": "markdown",
   "metadata": {
    "id": "hRVi9HRv7cDu"
   },
   "source": [
    "Czy te wykresy przypominają kursy akcji na giełdzie?"
   ]
  },
  {
   "cell_type": "markdown",
   "metadata": {
    "id": "calJ1-iK7wCO"
   },
   "source": [
    "Oto błądzenie na płaszczyźnie."
   ]
  },
  {
   "cell_type": "code",
   "execution_count": null,
   "metadata": {
    "colab": {
     "base_uri": "https://localhost:8080/",
     "height": 265
    },
    "id": "EyP3yCWvpEiB",
    "outputId": "e9c12590-a633-4dc9-bb39-8e03fdfc2bfd"
   },
   "outputs": [],
   "source": [
    "x = np.random.normal(0, 0.1, size=(2000000, 2)).cumsum(axis=0)\n",
    "plt.plot(x[:, 0], x[:, 1], linewidth=0.1)\n",
    "plt.axis(\"equal\")\n",
    "plt.show()"
   ]
  },
  {
   "cell_type": "markdown",
   "metadata": {
    "id": "FHKPeTh870zE"
   },
   "source": [
    "Różnicę między rozkładem równomiernym (jednostajnym) a normalnym powinien zrozumieć nawet laik, jeżeli zobaczy efekt działania tego kodu."
   ]
  },
  {
   "cell_type": "code",
   "execution_count": null,
   "metadata": {
    "colab": {
     "base_uri": "https://localhost:8080/",
     "height": 368
    },
    "id": "Hrm2poKlr-0E",
    "outputId": "ea35c004-b32a-4a72-9a8c-d3c1c18cc883"
   },
   "outputs": [],
   "source": [
    "N = 3000\n",
    "\n",
    "fig, ax = plt.subplots(1, 2, figsize=(12, 6))\n",
    "\n",
    "X = np.random.normal(loc=0, scale=1 / 3, size=N)\n",
    "Y = np.random.normal(loc=0, scale=1 / 3, size=N)\n",
    "\n",
    "ax[0].scatter(X, Y, s=5, color=\"red\", alpha=0.5)\n",
    "ax[0].set_aspect(\"equal\")\n",
    "ax[0].set_title(\"Rozkład normalny położenia\")\n",
    "X = np.random.uniform(low=-1, high=1, size=N)\n",
    "Y = np.random.uniform(low=-1, high=1, size=N)\n",
    "ax[1].scatter(X, Y, s=5, color=\"red\", alpha=0.5)\n",
    "ax[1].set_aspect(\"equal\")\n",
    "ax[1].set_title(\"Rozkład równomierny położenia\")\n",
    "\n",
    "plt.show()"
   ]
  },
  {
   "cell_type": "markdown",
   "metadata": {
    "id": "ZCcS4YDT9rj7"
   },
   "source": [
    "Tutaj widać już pewien efekt, na którym pierwotna intuicja może się łatwo wyłożyć. <br>\n",
    "Wykonaj eksperyment na intuicji. Pokaż laikowi/laiczce wcześniejsze dwa obrazki, aby złapał/a różnicę między rozkładem równomiernym a normalnym. Następnie zademonstruj dwa poniższe obrazki, ale bez tytułów. Niech spróbuje odgadnąć, na którym rozmiary kółek generowane są z rozkładu równomiernego a na którym z normalnego."
   ]
  },
  {
   "cell_type": "code",
   "execution_count": null,
   "metadata": {
    "colab": {
     "base_uri": "https://localhost:8080/",
     "height": 368
    },
    "id": "1kXeURs0s3n4",
    "outputId": "fe7a1622-7c8e-4985-df86-f40f729c514a"
   },
   "outputs": [],
   "source": [
    "N = 12\n",
    "x = np.linspace(start=-2, stop=2, num=N)\n",
    "y = np.linspace(start=-2, stop=2, num=N)\n",
    "X, Y = np.meshgrid(x, y)\n",
    "X = X.flatten()\n",
    "Y = Y.flatten()\n",
    "\n",
    "fig, ax = plt.subplots(1, 2, figsize=(12, 6))\n",
    "\n",
    "rozmiar = np.random.normal(loc=300, scale=100, size=N * N)\n",
    "ax[0].scatter(X, Y, s=rozmiar, color=\"red\", alpha=0.5)\n",
    "ax[0].set_aspect(\"equal\")\n",
    "ax[0].set_title(\"Rozkład normalny rozmiarów\")\n",
    "\n",
    "rozmiar = np.random.uniform(low=0, high=600, size=N * N)\n",
    "ax[1].scatter(X, Y, s=rozmiar, color=\"red\", alpha=0.5)\n",
    "ax[1].set_aspect(\"equal\")\n",
    "ax[1].set_title(\"Rozkład równomierny rozmiarów\")\n",
    "\n",
    "plt.show()"
   ]
  },
  {
   "cell_type": "markdown",
   "metadata": {
    "id": "MpAatNpf-2HD"
   },
   "source": [
    "Poniżej inspiracja do wykonania własnych sprytnych eksperymentów z rozmiarami i kolorami jednocześnie. "
   ]
  },
  {
   "cell_type": "code",
   "execution_count": null,
   "metadata": {
    "colab": {
     "base_uri": "https://localhost:8080/",
     "height": 336
    },
    "id": "pT2sYmZutIew",
    "outputId": "235b99b8-7444-43ab-c1c4-ac160c52eba5"
   },
   "outputs": [],
   "source": [
    "mapa_kolorow = cmap = plt.get_cmap(\"inferno\")\n",
    "\n",
    "N = 300\n",
    "X = np.random.normal(0, 0.5, N)\n",
    "Y = np.random.normal(0, 0.5, N)\n",
    "rozmiar = 200 * abs(np.random.normal(0, 1, N))\n",
    "kolor = abs(np.random.uniform(0, 1, N))\n",
    "\n",
    "plt.axes([0, 0, 1, 1])\n",
    "plt.scatter(X, Y, s=rozmiar, c=kolor, alpha=0.5, cmap=mapa_kolorow)\n",
    "\n",
    "plt.show()"
   ]
  },
  {
   "cell_type": "markdown",
   "metadata": {
    "id": "DklZ38Rk_BIj"
   },
   "source": [
    "Generatorem liczb losowych można numerycznie przybliżyć wartość całki (i wielu innych ciekawych rzeczy). Spróbuj bez zaglądania do internetu, jedynie na podstawie kodu odgadnąć sposób działania *metody Monte Carlo*."
   ]
  },
  {
   "cell_type": "code",
   "execution_count": null,
   "metadata": {
    "colab": {
     "base_uri": "https://localhost:8080/",
     "height": 284
    },
    "id": "xEpwVtaPtVAF",
    "outputId": "bb349d01-4ab1-4748-e678-54c8237bb820"
   },
   "outputs": [],
   "source": [
    "def f(x):\n",
    "    return np.exp(-(x**2))\n",
    "\n",
    "\n",
    "a, b = -3, 3\n",
    "os_x = np.linspace(start=a, stop=b, num=300)\n",
    "os_y = f(os_x)\n",
    "ymin, ymax = os_y.min(), os_y.max()\n",
    "N = 10\n",
    "x = np.random.uniform(a, b, size=(1, N))\n",
    "fx = f(x)\n",
    "y = np.random.uniform(ymin, ymax, size=(1, N))\n",
    "\n",
    "p_wew = y < fx\n",
    "x_wew = x[p_wew]\n",
    "y_wew = y[p_wew]\n",
    "\n",
    "plt.plot(os_x, f(os_x))\n",
    "plt.plot(x, y, \".\", color=\"gray\")\n",
    "plt.plot(x_wew, y_wew, \".\", color=\"tab:orange\")\n",
    "plt.show()\n",
    "\n",
    "licznik = x_wew.size / x.size\n",
    "print(licznik * (b - a) * (ymax - ymin))"
   ]
  },
  {
   "cell_type": "markdown",
   "metadata": {
    "id": "rWU0_TNwyRwd"
   },
   "source": [
    "### Zdobywanie rzeczywistych zbiorów danych\n",
    "W toku dalszych zajęć przyda się jakiś zbiór zawierajcy prawdziwe dane, na którym można będzie sprawdzić działanie poznawanych metod i narzędzi. Możesz wówczas dowolnie korzystać z przedstawionych kodów, również jako inspiracja do własnych poszukiwań. \n",
    "<br> Ta część notatnika jest przeznaczona raczej do przejrzenia w domu. Na pewno **nie staraj się teraz analizować dogłębnie kodów**. Zrobisz to, jeżeli zechcesz użyć któregoś z zaproponowanych lub podobnych źródeł danych. "
   ]
  },
  {
   "cell_type": "markdown",
   "metadata": {
    "id": "aRQEzkcTAP5z"
   },
   "source": [
    "Przedstawione zostaną:\n",
    "\n",
    "\n",
    "*   gotowce z repozytoriów służących do uczenia się korzystania z pakietów uczenia maszynowego,\n",
    "*   dane wyekstrahowane ze stron www,\n",
    "*   zwyczajne pliki,\n",
    "*   zapytania do wyszukiwarki ([Google Trends](https://trends.google.pl/trends/?geo=PL)),\n",
    "*   [Meteostat](https://meteostat.net/en/) jako przykład pozyskiwania danych za pomocą specjalnego API.\n",
    "\n"
   ]
  },
  {
   "cell_type": "markdown",
   "metadata": {
    "id": "M85q-M20BQVj"
   },
   "source": [
    "Nie jest to oczywiście kompletna lista możliwości. Należy ją traktować jako pierwszy krok w stronę zdobywania własnych, rzeczywistych i aktualizowanych na bieżąco zbiorów danych."
   ]
  },
  {
   "cell_type": "markdown",
   "metadata": {
    "id": "-ujEO8bMzdqA"
   },
   "source": [
    "__Gotowce__ na potrzeby testowania metod analizy danych i uczenia maszynowego. <br>\n",
    "Dobre na początek, ale nie zastąpią wiedzy, jaką daje praca z danymi zdobytymi i opracowanymi samodzielnie."
   ]
  },
  {
   "cell_type": "markdown",
   "metadata": {
    "id": "nXaVCb0tz84N"
   },
   "source": [
    "Biblioteka [Scikit-learn](https://scikit-learn.org/stable/datasets.html) zawiera kilka zbiorów, na któych można szkolić swoje umiejętności."
   ]
  },
  {
   "cell_type": "code",
   "execution_count": null,
   "metadata": {
    "colab": {
     "base_uri": "https://localhost:8080/"
    },
    "id": "hRQkB58YyNOr",
    "outputId": "b0c81865-88a8-4005-878f-968c3f8b8395"
   },
   "outputs": [],
   "source": [
    "from sklearn import datasets\n",
    "\n",
    "# datasets.load_digits()\n",
    "# datasets.load_boston()\n",
    "datasets.load_iris()"
   ]
  },
  {
   "cell_type": "markdown",
   "metadata": {
    "id": "FUTz7mjB1P89"
   },
   "source": [
    "Biblioteka [Seaborn](https://seaborn.pydata.org/generated/seaborn.load_dataset.html) świadczy podobne usługi, ale dane od razu są umieszczone w ramce danych."
   ]
  },
  {
   "cell_type": "code",
   "execution_count": null,
   "metadata": {
    "colab": {
     "base_uri": "https://localhost:8080/",
     "height": 206
    },
    "id": "cCVLoR6rvgi6",
    "outputId": "4a601e3c-48c7-4c27-c9bf-7d25a13f8377"
   },
   "outputs": [],
   "source": [
    "from seaborn import load_dataset\n",
    "\n",
    "df = load_dataset(\"titanic\")\n",
    "df.head()"
   ]
  },
  {
   "cell_type": "markdown",
   "metadata": {
    "id": "hcf9mb3P1bEh"
   },
   "source": [
    "[Kaggle](https://www.kaggle.com/datasets) to serwis udostępniający mnóstwo zbiorów danych oraz materiałów szkoleniowych z zakresu ich analizy i uczenia maszynowego."
   ]
  },
  {
   "cell_type": "markdown",
   "metadata": {
    "id": "92IiGDEg2LB8"
   },
   "source": [
    "**Ekstrakcja danych ze stron internetowych** (ang. *web scraping*) <br>\n",
    "Za pomocą biblioteki `requests` wysłane będzie żądanie HTTP. <br>\n",
    "Uzyskany kod HTML zostanie sparsowany z użyciem metod biblioteki `BeautifulSoup` do postaci drzewa wyszukiwań, z którego można wydobywać potrzebne dane."
   ]
  },
  {
   "cell_type": "code",
   "execution_count": 2,
   "metadata": {
    "colab": {
     "base_uri": "https://localhost:8080/",
     "height": 206
    },
    "id": "Od-KfJC519sS",
    "outputId": "3c46d21c-b57e-4225-d471-8c24098ce952",
    "ExecuteTime": {
     "end_time": "2024-03-19T07:50:06.262617Z",
     "start_time": "2024-03-19T07:50:03.857108Z"
    }
   },
   "outputs": [
    {
     "name": "stdout",
     "output_type": "stream",
     "text": [
      "                 Miasto          Powiat         Województwo  \\\n",
      "0  Aleksandrów Kujawski  aleksandrowski  kujawsko-pomorskie   \n",
      "1    Aleksandrów Łódzki        zgierski             łódzkie   \n",
      "2              Alwernia     chrzanowski         małopolskie   \n",
      "3             Andrychów       wadowicki         małopolskie   \n",
      "4               Annopol       kraśnicki           lubelskie   \n",
      "\n",
      "   Powierzchnia [ha] (01.01.2021)  Liczba ludności (01.01.2021)  \\\n",
      "0                             723                         12058   \n",
      "1                            1382                         21754   \n",
      "2                             888                          3336   \n",
      "3                            1033                         19837   \n",
      "4                             773                          2436   \n",
      "\n",
      "   Gęstość zaludnienia [osoby/km²] (01.01.2021)  \n",
      "0                                          1668  \n",
      "1                                          1574  \n",
      "2                                           376  \n",
      "3                                          1920  \n",
      "4                                           315  \n"
     ]
    },
    {
     "name": "stderr",
     "output_type": "stream",
     "text": [
      "C:\\Users\\Tymoteusz\\AppData\\Local\\Temp\\ipykernel_1496\\1150506533.py:12: FutureWarning: Passing literal html to 'read_html' is deprecated and will be removed in a future version. To read from a literal string, wrap it in a 'StringIO' object.\n",
      "  df = pd.read_html(str(tab))[\n"
     ]
    }
   ],
   "source": [
    "import pandas as pd  # jeżeli docelowo chcesz umieścić dane w ramce\n",
    "import requests\n",
    "from bs4 import BeautifulSoup  # ważna alternatywa: Selenium\n",
    "\n",
    "URL = \"https://pl.wikipedia.org/wiki/Dane_statystyczne_o_miastach_w_Polsce\"\n",
    "resp = requests.get(URL)\n",
    "if resp.status_code == 200:  # czy stronę udało się otworzyć?\n",
    "    soup = BeautifulSoup(resp.content, \"html.parser\")  # utworzenie drzewa wyszukiwań\n",
    "    tab = soup.find(\n",
    "        \"table\", {\"class\": \"wikitable\"}\n",
    "    )  # ekstrakcja tabel z drzewa wyszukiwań\n",
    "    df = pd.read_html(str(tab))[\n",
    "        0\n",
    "    ]  # konwersja pierwszej znalezionej tabeli do ramki danych\n",
    "    print(df.head())"
   ]
  },
  {
   "cell_type": "markdown",
   "metadata": {
    "id": "__RKr-PxRM-R"
   },
   "source": [
    "Dalej następuje już przetwarzanie ramki, jak w notatniku do pierwszych zajęć."
   ]
  },
  {
   "cell_type": "markdown",
   "metadata": {
    "id": "TzkVj04u3HBq"
   },
   "source": [
    "**Pobieranie plików** udostępnianych przez organizacje. <br>\n",
    "Posłużymy się biblioteką `urllib`, która pozwala nie tylko na wysyłanie żądań HTML, ale również na autentykację, obsługę ciasteczek, przekierowań oraz - co najważniejsze - pobieranie plików spod wskazanego adresu. <br>\n",
    "Pliki mogą być duże. Zasady dobrego wychowania wymagają, żeby nie wykonywać pobierania bez potrzeby (np. gdy plik już jest na dysku, ale użytkownik klika uporczywie w przycisk wykonaj). Biblioteka standardowa `os` zajmie się sprawdzaniem, czy plik, który trzeba pobrać, znajduje się już na dysku. <br>\n",
    "Pisząc skrypty do pobierania danych (zwłaszcza takie, z których będą korzystać inni), koniecznie musisz zabezpieczać się przed niezamierzonym atakiem na czyjś serwer."
   ]
  },
  {
   "cell_type": "code",
   "execution_count": null,
   "metadata": {
    "colab": {
     "base_uri": "https://localhost:8080/"
    },
    "id": "4YT7TPTV2Px2",
    "outputId": "072a4a50-7ece-4b23-fa88-00e07616f553"
   },
   "outputs": [],
   "source": [
    "import urllib.request\n",
    "import os\n",
    "\n",
    "# plik jest duży, uzbrój się w cierpliwość przy pobieraniu i ładowaniu do przestrzeni roboczej\n",
    "\n",
    "plik = \"owid-covid-data.csv\"\n",
    "URL = \"https://covid.ourworldindata.org/data/\" + plik\n",
    "if not os.path.isfile(plik):  # czy pliku już wcześniej nie pobierano?\n",
    "    print(\"Pobieram plik \", URL)\n",
    "    urllib.request.urlretrieve(URL, plik)  # właściwa linia, gdzie plik jest pobierany\n",
    "    print(\"Pobrano.\")\n",
    "else:\n",
    "    print(\"Plik już jest na dysku.\")"
   ]
  },
  {
   "cell_type": "code",
   "execution_count": null,
   "metadata": {
    "colab": {
     "base_uri": "https://localhost:8080/",
     "height": 339
    },
    "id": "503XxOL73bgV",
    "outputId": "30d174c6-652c-4e25-cbb6-a88d1ba28573"
   },
   "outputs": [],
   "source": [
    "dane = pd.read_csv(plik)\n",
    "\n",
    "dane[\"date\"] = pd.DatetimeIndex(\n",
    "    dane[\"date\"]\n",
    ")  # zmiana daty z łańcucha tesktowego na interpretowalną datę\n",
    "dane.set_index(\"date\", inplace=True)  # niech wiersze będą indeksowane datą\n",
    "dane.sample(4)  # pokaż 4 losowe wiersze"
   ]
  },
  {
   "cell_type": "code",
   "execution_count": null,
   "metadata": {
    "colab": {
     "base_uri": "https://localhost:8080/"
    },
    "id": "qWV7YIy33rJO",
    "outputId": "6cf65d1e-f405-43e0-fb6c-7995f16e805b"
   },
   "outputs": [],
   "source": [
    "print(\"Liczba państw:\", len(dane[\"location\"].unique()), \"\\n\")"
   ]
  },
  {
   "cell_type": "markdown",
   "metadata": {
    "id": "UG7ZBFnlfeA6"
   },
   "source": [
    "Dane o zachorowaniach mają cykl 7 dniowy. Charakterystyczne jest to, że w soboty i niedziele rejestruje się mniej zachorowań niżw tygodniu, za to w poniedziałek ujawniają się te przypadki, którym nie udało się w dni krótszej pracy laboratoriów diagnostycznych. Dlatego warto potraktować szereg czasowy zachorowań średnią ruchomą (ang. *Moving Average*) na oknie o długości 7. Okno z szeregu wybiera się metodą `rolling`, a na oknie tym wykonamy operację uśredniania `mean`.\n",
    "\n",
    "Nowy szereg wyliczony z surowych danych dostawimy metodą `insert` jako nową kolumnę ramki. "
   ]
  },
  {
   "cell_type": "code",
   "execution_count": null,
   "metadata": {
    "colab": {
     "base_uri": "https://localhost:8080/",
     "height": 356
    },
    "id": "mAh1d-kv3zAq",
    "outputId": "894c8b00-f223-4cfa-ee68-a79ab603c9b3"
   },
   "outputs": [],
   "source": [
    "dane_Pol = dane[dane[\"location\"] == \"Poland\"]\n",
    "cecha = \"new_cases\"\n",
    "dane_Pol.insert(1, \"MA_\" + cecha, dane_Pol[cecha].rolling(7).mean())\n",
    "\n",
    "dane_Pol[cecha].plot(rot=25, figsize=(10, 5), marker=\"o\", alpha=0.7)\n",
    "dane_Pol[\"MA_\" + cecha].plot(rot=25, figsize=(10, 5), linewidth=4)\n",
    "plt.show()"
   ]
  },
  {
   "cell_type": "markdown",
   "metadata": {
    "id": "lRcJX_qHjk74"
   },
   "source": [
    "#### Dostęp za pomocą specjalistycznych **API**"
   ]
  },
  {
   "cell_type": "markdown",
   "metadata": {
    "id": "cUE67ha47U1o"
   },
   "source": [
    "**Meteostat** "
   ]
  },
  {
   "cell_type": "code",
   "execution_count": null,
   "metadata": {
    "colab": {
     "base_uri": "https://localhost:8080/"
    },
    "id": "qmyng-jM7hWi",
    "outputId": "e50c2c6d-2854-43bc-b122-4c89a06be102"
   },
   "outputs": [],
   "source": [
    "!pip install meteostat\n",
    "!pip install joypy   # do ładnych ilustracji rozkładów warunkowych"
   ]
  },
  {
   "cell_type": "code",
   "execution_count": null,
   "metadata": {
    "id": "_6rcvs7V5QYb"
   },
   "outputs": [],
   "source": [
    "import meteostat\n",
    "from datetime import datetime  # chcemy aby data była datą, a nie stringiem\n",
    "import joypy"
   ]
  },
  {
   "cell_type": "markdown",
   "metadata": {
    "id": "yQkEabt5kCFw"
   },
   "source": [
    "Metoda `Stations` daje dostęp do listy stacji meteorologicznych, z których możemy uzyskiwać dane pomiarowe. Metoda `nearby` zwraca stację, która znajduje się najbliżej podanym współrzędnym geograficznym. <br>\n",
    "Pobranie danych (o stacji lub samych pomiarów) odbywa się za pomocą metody `fetch`. Jak dobrze, że od razu zwracana jest ramka danych."
   ]
  },
  {
   "cell_type": "code",
   "execution_count": null,
   "metadata": {
    "colab": {
     "base_uri": "https://localhost:8080/",
     "height": 455
    },
    "id": "kesOfx247fec",
    "outputId": "9fcbde01-2a5b-496d-91e3-795947bbe356"
   },
   "outputs": [],
   "source": [
    "# określamy zakres dat do wybrania pomiarów\n",
    "rok = 2022\n",
    "start, end = datetime(rok, 1, 1), datetime(rok, 12, 31)\n",
    "\n",
    "# namierzamy stację meteorologiczną\n",
    "stacje = meteostat.Stations()\n",
    "wroclaw = stacje.nearby(51, 17)\n",
    "wroclaw = wroclaw.fetch(1)\n",
    "\n",
    "# pobieramy z niej dane z rozdzielczością dnia (meteostat.Daily)\n",
    "pomiary = meteostat.Daily(wroclaw, start, end)\n",
    "pomiary = pomiary.fetch()\n",
    "pomiary"
   ]
  },
  {
   "cell_type": "markdown",
   "metadata": {
    "id": "HcKMgWxwlUbE"
   },
   "source": [
    "Przypiszemy daty do konkretnych miesięcy z nazwami w języku polskim. Chcemy ponadto. aby biblioteka do rysowania ,,rozumiała'' następstwo miesięcy. Te wymagania zapewni niestandardowy typ danych `CategoricalDtype` biblioteki `pandas`. <br>\n",
    "**Przypominam**: to nie są kody, które w ramach kursu należy opanowywać. Wystarczy umieć z nich korzystać, jeżeli zajdzie taka potrzeba. Niemniej warto zdawać sobie sprawę, że rolą bibliotek jest również dostarczanie wyspecjalizowanych typów danych służących do eleganckiego rozwiązywania często pojawiających się problemów. "
   ]
  },
  {
   "cell_type": "code",
   "execution_count": null,
   "metadata": {
    "colab": {
     "base_uri": "https://localhost:8080/",
     "height": 237
    },
    "id": "St0eeaig7tlX",
    "outputId": "ddc0f3a6-3c18-4941-cb6d-7607e3f30107"
   },
   "outputs": [],
   "source": [
    "from pandas.api.types import CategoricalDtype\n",
    "\n",
    "miesiace_dict = {\n",
    "    1: \"Styczeń\",\n",
    "    2: \"Luty\",\n",
    "    3: \"Marzec\",\n",
    "    4: \"Kwiecień\",\n",
    "    5: \"Maj\",\n",
    "    6: \"Czerwiec\",\n",
    "    7: \"Lipiec\",\n",
    "    8: \"Sierpień\",\n",
    "    9: \"Wrzesień\",\n",
    "    10: \"Październik\",\n",
    "    11: \"Listopad\",\n",
    "    12: \"Grudzień\",\n",
    "}\n",
    "\n",
    "kat_mies = CategoricalDtype(list(miesiace_dict.values()))\n",
    "\n",
    "# przypisz dacie miesiąc ze słownika miesiace_dict\n",
    "pomiary[\"Miesiąc\"] = [miesiace_dict[elem.month] for elem in pomiary.index]\n",
    "# i konwertuj je na szyty na miarę typ kategorialny kat_mies\n",
    "pomiary[\"Miesiąc\"] = pomiary[\"Miesiąc\"].astype(kat_mies)\n",
    "pomiary.head()"
   ]
  },
  {
   "cell_type": "code",
   "execution_count": null,
   "metadata": {
    "colab": {
     "base_uri": "https://localhost:8080/",
     "height": 455
    },
    "id": "_4aSsCxF72Fi",
    "outputId": "895963b8-a898-4583-f2d6-880a6e0b8db2"
   },
   "outputs": [],
   "source": [
    "dane = pomiary[[\"tavg\", \"Miesiąc\"]]  # wybieramy tylko te dwie kolumny\n",
    "dane"
   ]
  },
  {
   "cell_type": "code",
   "execution_count": null,
   "metadata": {
    "colab": {
     "base_uri": "https://localhost:8080/",
     "height": 583
    },
    "id": "2MeYKFUX8CsR",
    "outputId": "905fc78b-68fd-4159-df11-7ed4bb4e5002"
   },
   "outputs": [],
   "source": [
    "joypy.joyplot(\n",
    "    data=dane, by=\"Miesiąc\", figsize=(12, 8), fade=True, alpha=0.7, legend=True\n",
    ")\n",
    "plt.show()"
   ]
  },
  {
   "attachments": {},
   "cell_type": "markdown",
   "metadata": {
    "id": "Y2ksToSR45gd"
   },
   "source": [
    "**Google Trends** \n",
    "\n",
    "Jest to znakomite źródło danych o zainteresowaniach i zamierzeniach całego społeczeństwa. Duże firmy badają w ten sposób zachowania potencjalnych klientów. "
   ]
  },
  {
   "attachments": {},
   "cell_type": "markdown",
   "metadata": {
    "id": "GLfDc7uAheqn"
   },
   "source": [
    "Najprawdopodobniej trzeba będzie zainstalować bibliotekę dostępową `pytrends`. Jest to nieoficjalne API do Google Trends.\n",
    "\n",
    "**UWAGA**: Z racji, iż jest to nieoficjalne API, to zmiany po stronie Google mogą powodować nieprawidłowe działanie biblioteki."
   ]
  },
  {
   "cell_type": "code",
   "execution_count": null,
   "metadata": {
    "colab": {
     "base_uri": "https://localhost:8080/"
    },
    "id": "00Ij6FKC6_lB",
    "outputId": "d66fd288-17fd-47ae-a1c9-d7a14bb721f6"
   },
   "outputs": [],
   "source": [
    "!pip install pytrends"
   ]
  },
  {
   "cell_type": "markdown",
   "metadata": {
    "id": "A6Jabm7Dhorp"
   },
   "source": [
    "Klasa/obiekt `TrendReq` daje dostęp do aktualnych danych na temat żądań użytkowników wpisywanych do wyszukiwarki. Przy okazji: w Pythonie klasa realizowana jest jako obiekt, a instancje po prostu dziedziczą po tym nadrzędnym obiekcie. "
   ]
  },
  {
   "cell_type": "code",
   "execution_count": null,
   "metadata": {
    "id": "hMpdVabI4YBe"
   },
   "outputs": [],
   "source": [
    "from pytrends.request import TrendReq\n",
    "\n",
    "pytrend = TrendReq()  # tworzymy instancję klasy/obiektu TrendReq"
   ]
  },
  {
   "cell_type": "code",
   "execution_count": null,
   "metadata": {
    "id": "ALNo2Uif5KbH"
   },
   "outputs": [],
   "source": [
    "keyword = \"Wiedźmin\"\n",
    "pytrend.build_payload(\n",
    "    kw_list=[keyword]\n",
    ")  # przygotowanie obiektu pytrend do realizacji zapytań o listę słów kluczowych"
   ]
  },
  {
   "cell_type": "code",
   "execution_count": null,
   "metadata": {
    "colab": {
     "base_uri": "https://localhost:8080/",
     "height": 181
    },
    "id": "dBtD-hme5IAZ",
    "outputId": "156dfad4-935a-4080-90b7-bf39882201a5"
   },
   "outputs": [],
   "source": [
    "df = pytrend.interest_by_region()\n",
    "df.reset_index().plot(x=\"geoName\", y=keyword, figsize=(120, 10), kind=\"bar\")"
   ]
  },
  {
   "attachments": {},
   "cell_type": "markdown",
   "metadata": {
    "id": "iFSVsSZL8ZEA"
   },
   "source": [
    "**Pamiętaj!**\n",
    "\n",
    "To tylko przykłady, z któych możesz czerpać. Na tym etapie swojej edukacji nie ma potrzeby analizowania tych kodów. Wystarczy umiejętność zaadaptowania ich na potrzeby pobrania własnego zbioru danych."
   ]
  }
 ],
 "metadata": {
  "colab": {
   "collapsed_sections": [],
   "name": "MSiD_2_obsługa_danych_i_obliczeń.ipynb",
   "provenance": []
  },
  "kernelspec": {
   "display_name": "Python 3 (ipykernel)",
   "language": "python",
   "name": "python3"
  },
  "language_info": {
   "codemirror_mode": {
    "name": "ipython",
    "version": 3
   },
   "file_extension": ".py",
   "mimetype": "text/x-python",
   "name": "python",
   "nbconvert_exporter": "python",
   "pygments_lexer": "ipython3",
   "version": "3.12.2"
  }
 },
 "nbformat": 4,
 "nbformat_minor": 4
}
